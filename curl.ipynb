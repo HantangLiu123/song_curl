{
 "cells": [
  {
   "cell_type": "code",
   "execution_count": 6,
   "id": "c242f251",
   "metadata": {},
   "outputs": [],
   "source": [
    "import requests\n",
    "import json"
   ]
  },
  {
   "cell_type": "code",
   "execution_count": 7,
   "id": "696c4418",
   "metadata": {},
   "outputs": [],
   "source": [
    "#first 60 artists\n",
    "\n",
    "url = \"https://music.163.com/weapi/artist/list\"\n",
    "\n",
    "payload = {\n",
    "    \"csrf_token\": \"dd241c7029354383215c754cbca3fbbc\"\n",
    "}\n",
    "\n",
    "headers = {\n",
    "    \"accept\": \"*/*\",\n",
    "    \"accept-language\": \"en-US,en;q=0.9\",\n",
    "    \"content-type\": \"application/x-www-form-urlencoded\",\n",
    "    \"origin\": \"https://music.163.com\",\n",
    "    \"priority\": \"u=1, i\",\n",
    "    \"referer\": \"https://music.163.com/discover/artist/signed/\",\n",
    "    \"sec-ch-ua\": '\"Google Chrome\";v=\"137\", \"Chromium\";v=\"137\", \"Not/A)Brand\";v=\"24\"',\n",
    "    \"sec-ch-ua-mobile\": \"?0\",\n",
    "    \"sec-ch-ua-platform\": '\"Windows\"',\n",
    "    \"sec-fetch-dest\": \"empty\",\n",
    "    \"sec-fetch-mode\": \"cors\",\n",
    "    \"sec-fetch-site\": \"same-origin\",\n",
    "    \"user-agent\": \"Mozilla/5.0 (Windows NT 10.0; Win64; x64) AppleWebKit/537.36 (KHTML, like Gecko) Chrome/137.0.0.0 Safari/537.36\"\n",
    "}\n",
    "\n",
    "cookies = {\n",
    "    \"_iuqxldmzr_\": \"32\",\n",
    "    \"*ntes*nnid\": \"66528d90a67b40f5083977b2aa13f1fb,1750984768492\",\n",
    "    \"*ntes*nuid\": \"66528d90a67b40f5083977b2aa13f1fb\",\n",
    "    \"WEVNSM\": \"1.0.0\",\n",
    "    \"WNMCID\": \"wvtjxf.1750984768861.01.0\",\n",
    "    \"NMTID\": \"00O7aLHpTbFcg_iC0nCm7NyqWczpIYAAAGXrtM58g\",\n",
    "    \"WM_NI\": \"fMB1p8316uXSeYbW9VEO3SgLGE2ytwaNSmBOPuhnJD4aqaQnN2%2FZLqagL0LPCGAgnT%2F2OHpc7AkavtEoUMCtxrSN6AEG5jn8kc1AAwFBnQUkWInVHkD9oMctdeur7CNzMUs%3D\",\n",
    "    \"WM_NIKE\": \"9ca17ae2e6ffcda170e2e6eea8b67df8aa8f93d45fb5ef8eb7c85b978b9a87c66efcedf794b479a9eeaaa6f22af0fea7c3b92aa6938ed2f334f1effa96db59a787aeb8bc5e8791fdb4e648859bfe9af77da3929d8ec14594aba88fc950f8bfbf82d4668eeee1bbcf7ba3b984d1cf5c81998f88ed60edee81a9f369f59fa582f58087b19baec280bcae9dafb54b8799fb8bed34a9bdffa2c47d869ea2b2d8619597a2b7cb6188e7a1aee280a8bbbb93b6498ea683b6f237e2a3\",\n",
    "    \"sDeviceId\": \"YD-l%2B6BoGmhqc1AF1EQQQaTPoj4t09g4aiS\",\n",
    "    \"ntes_utid\": \"tid._.mMP9FniabwxEBkRRUBeDP9jt8x8ksbiW._.0\",\n",
    "    \"WM_TID\": \"%2BYEnlCDbZ1xFVUQQQQOCOoi8p04hzMbF\",\n",
    "    \"__snaker__id\": \"CpNqIxmBogQLpWV9\",\n",
    "    \"gdxidpyhxdE\": \"oC5cpwv7PdGK%5CrmjJB8pisHZ9m1bBCR4w4gVu%5C3l%5CdaVIcn1L9PMEOTPvc2C8cMYGtX4%2BX3N43UcZQ%2FC5xOL2zmMWV4Avj84tVTrpcwfbjN%2BLY31po577AjeOjXkfxxdf9fUWC9iWY1Ko9l9AVy3zsovRIhtL%2BVVzbY9dl0EYqvKTeab%3A1750985729881\",\n",
    "    \"__csrf\": \"dd241c7029354383215c754cbca3fbbc\",\n",
    "    \"MUSIC_U\": \"00C3F1F27B7227B3ADC8357A5221494AD43A2E473D70140C67E44C374292212270FD60D72117FF1C8D04F475CFC613AF28264AF280B916F00CA8541633CD8FF0DCA322F55A7545CBE45807FB36FABC2D8C9765E4835C0E517CC51EBA66B07B63B88377B4AB73DEA1792995652DEFDFA3A100511F345AFB8948D4847DCFE5063CAEF379ECC1C3EB07DD3EE103BC7F385C3BB0C1D4B47F8CFF3C0B8E1BFE0260AFC372679E42AA7A852234A6BC65C4309550185473C79DE4ADF8AA60605B73674309FA299BF95F163D527B4EB504389D48829AD480E1BD63652CF1EDA146C77FDADE91A513C8719F7E00FAAFD93519D6437CB0C52E7B519F95698A5FA5C7E5E4B32968C75C52F20F06B46D80ED1E25A0B02F56837B26D608822215B2C8A34A946CAB151832BA86D2F3B32BD196A4FCA46D1D9044C74CF5D9823C1098DB7EB73AC2ADED8A88FFACC861B2981645C2EF743FBE6747205EE9A20619C0AA1B44AD6C92C185DAB10053BD76255C9312E6D7D02B58\",\n",
    "    \"__remember_me\": \"true\",\n",
    "    \"P_INFO\": \"15652144978|1750984965|1|music|00&99|null&null&null#bej&null#10#0|&0||15652144978\",\n",
    "    \"ntes_kaola_ad\": \"1\",\n",
    "    \"JSESSIONID-WYYY\": \"u4rYRozoxyqmygp7NrxYMg%5CZD1t%2Buk4eAb0Xo7PsGdOrB0g745ZegmXxG1dCOWNqPrKyssiC6dmWUg8wjwk9eHPdet%2B9B0QZOkWvu%5CHJ%2FG%5CEUUj%2BfVllS9W0NrVqDkemBwJhtt1T%2Fg1KS1BtBx8h%2FmUs7R0uV4AjzesHbnQREdEp1A%2Fe%3A1751010335486\"\n",
    "}\n",
    "\n",
    "data = {\n",
    "    \"params\": \"NMPXBCNLbWyk9251LOKEvhjnTLaHsWS6XknMDWcySs53UiPuHYjOh9AJfgXGKGmjjZ+fOo7mSPg95YxUau/NauCRgNbyCekyeX9uu33ZnArMlBBEN7auepo7SlCSDLUGsIE0HBfHSY/ozgK58klCvP+2LelrWC5bCMuHxs2+uZPUKQ68dmxpt8UD0hpOj6LxcmyuFLABrRBmUnnOrxdHoouJcqhz/CDxuU7LiuGBETs=\",\n",
    "    \"encSecKey\": \"735b7b44e025b7469eb7504f8fc0cf8866e70821959e1cf7cd4a75109594eb0ea2f4e1a25490a0cf376467f52b9141827aa5abdd0842482dff785e8d91d7399b5fa869dc825488440f159ae60eb6e6ac28cb1cb757b4ee8b6a4e2ce48208a75f0f6d0f7f6409de9d225b6b7543fcb129bdadcb4ee1e8c600c69e91f73914428a\"\n",
    "}\n",
    "\n"
   ]
  },
  {
   "cell_type": "code",
   "execution_count": 8,
   "id": "32cbdfdd",
   "metadata": {},
   "outputs": [],
   "source": [
    "response = requests.post(url, headers=headers, cookies=cookies, data=data, params=payload)"
   ]
  },
  {
   "cell_type": "code",
   "execution_count": 9,
   "id": "37712f90",
   "metadata": {},
   "outputs": [],
   "source": [
    "OUT_FOLDER_PATH = \"C:/Chris Liu/清华/25暑期/python-course/song_curl/saved_info\"\n",
    "with open(f\"{OUT_FOLDER_PATH}/artist_group_1.json\", \"w\", encoding=\"utf-8\") as f:\n",
    "    json.dump(response.json(), f, indent=4, sort_keys=False)"
   ]
  },
  {
   "cell_type": "code",
   "execution_count": 10,
   "id": "3f36ebd5",
   "metadata": {},
   "outputs": [],
   "source": [
    "#the other 60 artists\n",
    "\n",
    "url = \"https://music.163.com/weapi/artist/list?csrf_token\"\n",
    "\n",
    "payload = {\n",
    "    \"csrf_token\": \"dd241c7029354383215c754cbca3fbbc\"\n",
    "}\n",
    "\n",
    "headers = {\n",
    "    \"accept\": \"*/*\",\n",
    "    \"accept-language\": \"en-US,en;q=0.9\",\n",
    "    \"content-type\": \"application/x-www-form-urlencoded\",\n",
    "    \"nm-gcore-status\": \"1\",\n",
    "    \"origin\": \"https://music.163.com\",\n",
    "    \"priority\": \"u=1, i\",\n",
    "    \"referer\": \"https://music.163.com/discover/artist/signed/\",\n",
    "    \"sec-ch-ua\": '\"Google Chrome\";v=\"137\", \"Chromium\";v=\"137\", \"Not/A)Brand\";v=\"24\"',\n",
    "    \"sec-ch-ua-mobile\": \"?0\",\n",
    "    \"sec-ch-ua-platform\": '\"Windows\"',\n",
    "    \"sec-fetch-dest\": \"empty\",\n",
    "    \"sec-fetch-mode\": \"cors\",\n",
    "    \"sec-fetch-site\": \"same-origin\",\n",
    "    \"user-agent\": \"Mozilla/5.0 (Windows NT 10.0; Win64; x64) AppleWebKit/537.36 (KHTML, like Gecko) Chrome/137.0.0.0 Safari/537.36\"\n",
    "}\n",
    "\n",
    "cookies = {\n",
    "    \"_iuqxldmzr_\": \"32\",\n",
    "    \"*ntes*nnid\": \"66528d90a67b40f5083977b2aa13f1fb,1750984768492\",\n",
    "    \"*ntes*nuid\": \"66528d90a67b40f5083977b2aa13f1fb\",\n",
    "    \"WEVNSM\": \"1.0.0\",\n",
    "    \"WNMCID\": \"wvtjxf.1750984768861.01.0\",\n",
    "    \"NMTID\": \"00O7aLHpTbFcg_iC0nCm7NyqWczpIYAAAGXrtM58g\",\n",
    "    \"WM_NI\": \"fMB1p8316uXSeYbW9VEO3SgLGE2ytwaNSmBOPuhnJD4aqaQnN2%2FZLqagL0LPCGAgnT%2F2OHpc7AkavtEoUMCtxrSN6AEG5jn8kc1AAwFBnQUkWInVHkD9oMctdeur7CNzMUs%3D\",\n",
    "    \"WM_NIKE\": \"9ca17ae2e6ffcda170e2e6eea8b67df8aa8f93d45fb5ef8eb7c85b978b9a87c66efcedf794b479a9eeaaa6f22af0fea7c3b92aa6938ed2f334f1effa96db59a787aeb8bc5e8791fdb4e648859bfe9af77da3929d8ec14594aba88fc950f8bfbf82d4668eeee1bbcf7ba3b984d1cf5c81998f88ed60edee81a9f369f59fa582f58087b19baec280bcae9dafb54b8799fb8bed34a9bdffa2c47d869ea2b2d8619597a2b7cb6188e7a1aee280a8bbbb93b6498ea683b6f237e2a3\",\n",
    "    \"sDeviceId\": \"YD-l%2B6BoGmhqc1AF1EQQQaTPoj4t09g4aiS\",\n",
    "    \"ntes_utid\": \"tid._.mMP9FniabwxEBkRRUBeDP9jt8x8ksbiW._.0\",\n",
    "    \"WM_TID\": \"%2BYEnlCDbZ1xFVUQQQOCOoi8p04hzMbF\",\n",
    "    \"**snaker**id\": \"CpNqIxmBogQLpWV9\",\n",
    "    \"gdxidpyhxdE\": \"oC5cpwv7PdGK%5CrmjJB8pisHZ9m1bBCR4w4gVu%5C3l%5CdaVIcn1L9PMEOTPvc2C8cMYGtX4%2BX3N43UcZQ%2FC5xOL2zmMWV4Avj84tVTrpcwfbjN%2BLY31po577AjeOjXkfxxdf9fUWC9iWY1Ko9l9AVy3zsovRIhtL%2BVVzbY9dl0EYqvKTeab%3A1750985729881\",\n",
    "    \"__csrf\": \"dd241c7029354383215c754cbca3fbbc\",\n",
    "    \"MUSIC_U\": \"00C3F1F27B7227B3ADC8357A5221494AD43A2E473D70140C67E44C374292212270FD60D72117FF1C8D04F475CFC613AF28264AF280B916F00CA8541633CD8FF0DCA322F55A7545CBE45807FB36FABC2D8C9765E4835C0E517CC51EBA66B07B63B88377B4AB73DEA1792995652DEFDFA3A100511F345AFB8948D4847DCFE5063CAEF379ECC1C3EB07DD3EE103BC7F385C3BB0C1D4B47F8CFF3C0B8E1BFE0260AFC372679E42AA7A852234A6BC65C4309550185473C79DE4ADF8AA60605B73674309FA299BF95F163D527B4EB504389D48829AD480E1BD63652CF1EDA146C77FDADE91A513C8719F7E00FAAFD93519D6437CB0C52E7B519F95698A5FA5C7E5E4B32968C75C52F20F06B46D80ED1E25A0B02F56837B26D608822215B2C8A34A946CAB151832BA86D2F3B32BD196A4FCA46D1D9044C74CF5D9823C1098DB7EB73AC2ADED8A88FFACC861B2981645C2EF743FBE6747205EE9A20619C0AA1B44AD6C92C185DAB10053BD76255C9312E6D7D02B58\",\n",
    "    \"__remember_me\": \"true\",\n",
    "    \"P_INFO\": \"15652144978|1750984965|1|music|00&99|null&null&null#bej&null#10#0|&0||15652144978\",\n",
    "    \"ntes_kaola_ad\": \"1\",\n",
    "    \"JSESSIONID-WYYY\": \"8fBwM1nDGPUP9Eetlb8BbOxnkjz%2Ftx5t518B3wv5n%2FyJSZBvHcZ8sawTXHZfJ76FmRy6R7g7ZTamOg1Yaiuv8VoO%2B31qbo%5CwvEV3QJDGNZ6RM3yY3tIEN6Z6IV0YT5wp%2BIhKYgFrD3553s1ItuYCax9Vv8FbAceKJsQpIf1SmBIrQZRA%3A1751012076422\"\n",
    "}\n",
    "\n",
    "data = {\n",
    "    \"params\": \"hO8SSk0l8uGTNKbRhb4DllnvigZri6IpOywSsGweNSS/Thx+tYIsNIeFTPW57jEBLSddZdZngvtJz4ulSKEYD1PxVLEeFm/cPKi7gNc+DptT5HuK3OfYwMeKKn1lYrdhxuO/yh0mr+cNxWCFfvwLa8dkYpYJCntob5tqdtX7yurDBh+VD7bSKVyRPvF2yHIxGA7L4VRKhQ80si/0/zU1kLHWiPk+aDHpP8WISGwHDJs=\",\n",
    "    \"encSecKey\": \"cbd898e902eab2fda3f1f1c55a56cbf46d90b517d44381779b24410c9e2952b072e121969fbf98cd95398031c2410b3c154ae17c466bc0788c218b89ebca6566f9e3c9a79e596103f27f7a56e02a70836603d766c49f58600d3c009de84debfa7cc81ab4eac24a84853c8c52253186c7abb723b537e2a62a18d969d7180a6d07\"\n",
    "}"
   ]
  },
  {
   "cell_type": "code",
   "execution_count": 11,
   "id": "2f438d25",
   "metadata": {},
   "outputs": [],
   "source": [
    "response = requests.post(url=url, params=payload, headers=headers, cookies=cookies, data=data)"
   ]
  },
  {
   "cell_type": "code",
   "execution_count": 13,
   "id": "db6edbf3",
   "metadata": {},
   "outputs": [],
   "source": [
    "with open(f\"{OUT_FOLDER_PATH}/artist_group_2.json\", \"w\", encoding=\"utf-8\") as f:\n",
    "    json.dump(response.json(), f, indent=4, sort_keys=False)"
   ]
  }
 ],
 "metadata": {
  "kernelspec": {
   "display_name": "python_course",
   "language": "python",
   "name": "python3"
  },
  "language_info": {
   "codemirror_mode": {
    "name": "ipython",
    "version": 3
   },
   "file_extension": ".py",
   "mimetype": "text/x-python",
   "name": "python",
   "nbconvert_exporter": "python",
   "pygments_lexer": "ipython3",
   "version": "3.10.11"
  }
 },
 "nbformat": 4,
 "nbformat_minor": 5
}

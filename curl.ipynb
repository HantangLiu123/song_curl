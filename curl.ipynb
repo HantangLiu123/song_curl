{
 "cells": [
  {
   "cell_type": "code",
   "execution_count": 31,
   "id": "c242f251",
   "metadata": {},
   "outputs": [],
   "source": [
    "import requests\n",
    "from bs4 import BeautifulSoup\n",
    "import re\n",
    "import json"
   ]
  },
  {
   "cell_type": "code",
   "execution_count": 69,
   "id": "cd3b3e44",
   "metadata": {},
   "outputs": [
    {
     "name": "stdout",
     "output_type": "stream",
     "text": [
      "200\n"
     ]
    }
   ],
   "source": [
    "url_signed_artists = \"https://music.163.com/weapi/artist/list?csrf_token=dd241c7029354383215c754cbca3fbbc\"\n",
    "\n",
    "headers = {\n",
    "    \"accept\": \"text/plain\",\n",
    "    \"accept-language\": \"en-US,en;q=0.9\",\n",
    "    \"content-type\": \"application/x-www-form-urlencoded\",\n",
    "    \"origin\": \"https://music.163.com\",\n",
    "    \"priority\": \"u=1, i\",\n",
    "    \"referer\": \"https://music.163.com/discover/artist/signed/\",\n",
    "    \"sec-ch-ua\": '\"Google Chrome\";v=\"137\", \"Chromium\";v=\"137\", \"Not/A)Brand\";v=\"24\"',\n",
    "    \"sec-ch-ua-mobile\": \"?0\",\n",
    "    \"sec-ch-ua-platform\": '\"Windows\"',\n",
    "    \"sec-fetch-dest\": \"empty\",\n",
    "    \"sec-fetch-mode\": \"cors\",\n",
    "    \"sec-fetch-site\": \"same-origin\",\n",
    "    \"user-agent\": \"Mozilla/5.0 (Windows NT 10.0; Win64; x64) AppleWebKit/537.36 (KHTML, like Gecko) Chrome/137.0.0.0 Safari/537.36\"\n",
    "}\n",
    "\n",
    "cookies = {\n",
    "    \"_iuqxldmzr_\": \"32\",\n",
    "    \"_ntes_nnid\": \"66528d90a67b40f5083977b2aa13f1fb,1750984768492\",\n",
    "    \"_ntes_nuid\": \"66528d90a67b40f5083977b2aa13f1fb\",\n",
    "    \"WEVNSM\": \"1.0.0\",\n",
    "    \"WNMCID\": \"wvtjxf.1750984768861.01.0\",\n",
    "    \"NMTID\": \"00O7aLHpTbFcg_iC0nCm7NyqWczpIYAAAGXrtM58g\",\n",
    "    \"WM_NI\": \"fMB1p8316uXSeYbW9VEO3SgLGE2ytwaNSmBOPuhnJD4aqaQnN2%2FZLqagL0LPCGAgnT%2F2OHpc7AkavtEoUMCtxrSN6AEG5jn8kc1AAwFBnQUkWInVHkD9oMctdeur7CNzMUs%3D\",\n",
    "    \"WM_NIKE\": \"9ca17ae2e6ffcda170e2e6eea8b67df8aa8f93d45fb5ef8eb7c85b978b9a87c66efcedf794b479a9eeaaa6f22af0fea7c3b92aa6938ed2f334f1effa96db59a787aeb8bc5e8791fdb4e648859bfe9af77da3929d8ec14594aba88fc950f8bfbf82d4668eeee1bbcf7ba3b984d1cf5c81998f88ed60edee81a9f369f59fa582f58087b19baec280bcae9dafb54b8799fb8bed34a9bdffa2c47d869ea2b2d8619597a2b7cb6188e7a1aee280a8bbbb93b6498ea683b6f237e2a3\",\n",
    "    \"sDeviceId\": \"YD-l%2B6BoGmhqc1AF1EQQQaTPoj4t09g4aiS\",\n",
    "    \"ntes_utid\": \"tid._.mMP9FniabwxEBkRRUBeDP9jt8x8ksbiW._.0\",\n",
    "    \"WM_TID\": \"%2BYEnlCDbZ1xFVUQQQQOCOoi8p04hzMbF\",\n",
    "    \"__snaker__id\": \"CpNqIxmBogQLpWV9\",\n",
    "    \"gdxidpyhxdE\": \"oC5cpwv7PdGK%5CrmjJB8pisHZ9m1bBCR4w4gVu%5C3l%5CdaVIcn1L9PMEOTPvc2C8cMYGtX4%2BX3N43UcZQ%2FC5xOL2zmMWV4Avj84tVTrpcwfbjN%2BLY31po577AjeOjXkfxxdf9fUWC9iWY1Ko9l9AVy3zsovRIhtL%2BVVzbY9dl0EYqvKTeab%3A1750985729881\",\n",
    "    \"__csrf\": \"dd241c7029354383215c754cbca3fbbc\",\n",
    "    \"MUSIC_U\": \"00C3F1F27B7227B3ADC8357A5221494AD43A2E473D70140C67E44C374292212270FD60D72117FF1C8D04F475CFC613AF28264AF280B916F00CA8541633CD8FF0DCA322F55A7545CBE45807FB36FABC2D8C9765E4835C0E517CC51EBA66B07B63B88377B4AB73DEA1792995652DEFDFA3A100511F345AFB8948D4847DCFE5063CAEF379ECC1C3EB07DD3EE103BC7F385C3BB0C1D4B47F8CFF3C0B8E1BFE0260AFC372679E42AA7A852234A6BC65C4309550185473C79DE4ADF8AA60605B73674309FA299BF95F163D527B4EB504389D48829AD480E1BD63652CF1EDA146C77FDADE91A513C8719F7E00FAAFD93519D6437CB0C52E7B519F95698A5FA5C7E5E4B32968C75C52F20F06B46D80ED1E25A0B02F56837B26D608822215B2C8A34A946CAB151832BA86D2F3B32BD196A4FCA46D1D9044C74CF5D9823C1098DB7EB73AC2ADED8A88FFACC861B2981645C2EF743FBE6747205EE9A20619C0AA1B44AD6C92C185DAB10053BD76255C9312E6D7D02B58\",\n",
    "    \"__remember_me\": \"true\",\n",
    "    \"NTES_YD_SESS\": \"wdX4yYgSqUx2kI6710EniiX4G0Z3x7JwX9q4oJZdoC5x68YH69PjrG9u1zGXCzR2lolREx.HO1G5ytIAwEeEpR4ey3HIWnK5L0khy9q_xEnAk_fuWGA38FWJVLIhGdZt07TJ7eBrVxFlxMbWRmHldCe3OUnX1xyIquiSqP0xgGO2WpbKXeUxp7PcBEStBFfDKTS8n3fh7AeOOWaMyv1Cg1F3GNeAoBb0_QHv_VKU74Lnl\",\n",
    "    \"S_INFO\": \"1750984965|0|0&60#|15652144978\",\n",
    "    \"P_INFO\": \"15652144978|1750984965|1|music|00&99|null&null&null#bej&null#10#0|&0||15652144978\",\n",
    "    \"ntes_kaola_ad\": \"1\",\n",
    "    \"JSESSIONID-WYYY\": \"IfWTbTKmfNstfUzMuQD24%5C9OiQtybWokDCIn9taN%5Cshsc4%2BzNkZ5EXi43cK5r63AwqmMQn%5CdossyajtlE1OD6Ff3vCZEtC7hRVn43rUIhzrSmqbZn31wVrh6PxooHC6WVlegkpjMcSXBaP%2FBoknVy%2BRhCf%5CH4gJyK4H5Nni3Ga3msQMr%3A1750988309216\"\n",
    "}\n",
    "\n",
    "data = {\n",
    "    \"params\": \"AXs2yH%2BUbirHImAyoVpIqsvDdVF3qotTfbDJ%2B59lYZOxpUPapLkYvYAoNt%2BGwhG2gBRcYDkZOl7dt%2B9x7hbIGS%2Baxc6TKaFUkRlIoz%2Bjo7AsjlUlPznE%2FRb7HTjVbMrjE3HkQZAgaKnzBMx7wjWoPsq3CRRQFXjX4rxd8qE%2FukNKZ9emD%2FqZrjeKGskZuK6RJgoIsLxXNhQMnTwCjTtVhVaU0cxk2p59tAj2%2FnaQbPQ%3D\",\n",
    "    \"encSecKey\": \"4398d279d2a3c82665c24c6d09b1d135f12103f50e103e267091edaa51284e33ff1175a2179d96fc5080554e08720551f51492f8f596c63a3a93718ecba5f24a4b5cd756175c56a46dd28e50194c1d8375fadb300b64a2f7ae6344982ce8fe274b156003f78cc53874342f4cc4a40ac19ba0b15eb7201b772d78d767d787ee82\"\n",
    "}\n",
    "\n",
    "# Make the request\n",
    "response = requests.post(url_signed_artists, headers=headers, cookies=cookies, data=data)\n",
    "print(response.status_code)"
   ]
  },
  {
   "cell_type": "code",
   "execution_count": null,
   "id": "60df876f",
   "metadata": {},
   "outputs": [
    {
     "name": "stdout",
     "output_type": "stream",
     "text": [
      "{'Server': 'nginx', 'Date': 'Fri, 27 Jun 2025 02:58:20 GMT', 'Content-Type': 'application/json;charset=UTF-8', 'Content-Length': '0', 'Connection': 'keep-alive', 'cache-control': 'no-cache, no-store', 'expires': 'Thu, 01 Jan 1970 00:00:00 GMT', 'X-From-Src': '183.173.81.228', 'X-Via': 'MusicServer'}\n",
      "\n"
     ]
    }
   ],
   "source": [
    "print(response.headers)\n",
    "print(response.text)"
   ]
  }
 ],
 "metadata": {
  "kernelspec": {
   "display_name": "python_course",
   "language": "python",
   "name": "python3"
  },
  "language_info": {
   "codemirror_mode": {
    "name": "ipython",
    "version": 3
   },
   "file_extension": ".py",
   "mimetype": "text/x-python",
   "name": "python",
   "nbconvert_exporter": "python",
   "pygments_lexer": "ipython3",
   "version": "3.10.11"
  }
 },
 "nbformat": 4,
 "nbformat_minor": 5
}
